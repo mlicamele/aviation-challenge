{
 "cells": [
  {
   "cell_type": "code",
   "execution_count": 1,
   "id": "6efb39df",
   "metadata": {},
   "outputs": [],
   "source": [
    "import pandas as pd\n",
    "import warnings\n",
    "warnings.filterwarnings(\"ignore\", category=FutureWarning)"
   ]
  },
  {
   "cell_type": "code",
   "execution_count": 2,
   "id": "7ee73367",
   "metadata": {},
   "outputs": [],
   "source": [
    "df = pd.read_csv(\"data.csv\", index_col=0, skiprows=1)"
   ]
  },
  {
   "cell_type": "code",
   "execution_count": 3,
   "id": "a5f1b849",
   "metadata": {},
   "outputs": [],
   "source": [
    "df = df.T\n",
    "\n",
    "remove_index = [i for i in df.index if i.startswith(\"Unnamed\")]\n",
    "df = df.drop(index = remove_index)"
   ]
  },
  {
   "cell_type": "code",
   "execution_count": 4,
   "id": "f1ebbfb0",
   "metadata": {},
   "outputs": [],
   "source": [
    "remove_cols = [i for i in df.columns if type(i) != str]\n",
    "df = df.drop(columns = remove_cols)\n",
    "df.columns = [i.strip() for i in df.columns]"
   ]
  },
  {
   "cell_type": "code",
   "execution_count": 5,
   "id": "fe024275",
   "metadata": {},
   "outputs": [],
   "source": [
    "remove_cols = [\"SCORE 8CL0 --> 11CL\", \"payload carried (lbs)\", \"distance travelled (nm)\", \"fuel consumed\", \"time (start engines to wheels on the ground)\", \"Additional Flight Notes\"]\n",
    "df = df.drop(columns = remove_cols)\n",
    "\n",
    "df[\"Long Arm\"] = 13"
   ]
  },
  {
   "cell_type": "code",
   "execution_count": 6,
   "id": "992cba78",
   "metadata": {},
   "outputs": [],
   "source": [
    "df = df.loc[[(type(i) == float and not pd.isna(i)) for i in df[\"Score\"]]]"
   ]
  },
  {
   "cell_type": "code",
   "execution_count": 7,
   "id": "654ff373",
   "metadata": {},
   "outputs": [],
   "source": [
    "df = df.replace(pd.NA, 0)"
   ]
  },
  {
   "cell_type": "code",
   "execution_count": 8,
   "id": "e423f0c3",
   "metadata": {},
   "outputs": [],
   "source": [
    "df.to_csv(\"formatted_data.csv\")"
   ]
  }
 ],
 "metadata": {
  "kernelspec": {
   "display_name": "3.12.2",
   "language": "python",
   "name": "python3"
  },
  "language_info": {
   "codemirror_mode": {
    "name": "ipython",
    "version": 3
   },
   "file_extension": ".py",
   "mimetype": "text/x-python",
   "name": "python",
   "nbconvert_exporter": "python",
   "pygments_lexer": "ipython3",
   "version": "3.12.2"
  }
 },
 "nbformat": 4,
 "nbformat_minor": 5
}
