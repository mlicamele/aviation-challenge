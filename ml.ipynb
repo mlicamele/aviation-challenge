{
 "cells": [
  {
   "cell_type": "code",
   "execution_count": 1,
   "id": "e1c00ccb",
   "metadata": {},
   "outputs": [],
   "source": [
    "import pandas as pd\n",
    "import warnings\n",
    "from sklearn.preprocessing import StandardScaler\n",
    "from sklearn.model_selection import train_test_split, RandomizedSearchCV\n",
    "from sklearn.ensemble import RandomForestRegressor\n",
    "from scipy.stats import randint\n",
    "import pickle as pkl\n",
    "warnings.filterwarnings(\"ignore\", category=FutureWarning)"
   ]
  },
  {
   "cell_type": "code",
   "execution_count": 2,
   "id": "9297873a",
   "metadata": {},
   "outputs": [],
   "source": [
    "df = pd.read_csv(\"formatted_data.csv\", index_col = 0)"
   ]
  },
  {
   "cell_type": "code",
   "execution_count": 3,
   "id": "cf1fe55d",
   "metadata": {},
   "outputs": [],
   "source": [
    "X = df.drop(columns = [\"Score\"])\n",
    "y = df[\"Score\"]"
   ]
  },
  {
   "cell_type": "code",
   "execution_count": 4,
   "id": "8052c60e",
   "metadata": {},
   "outputs": [],
   "source": [
    "X_train, X_test, y_train, y_test = train_test_split(X, y, test_size=0.35, random_state=42)"
   ]
  },
  {
   "cell_type": "code",
   "execution_count": 5,
   "id": "9c7ab05f",
   "metadata": {},
   "outputs": [],
   "source": [
    "X_test_index = X_test.index"
   ]
  },
  {
   "cell_type": "code",
   "execution_count": 6,
   "id": "78d55f23",
   "metadata": {},
   "outputs": [],
   "source": [
    "model = RandomForestRegressor().fit(X_train, y_train)\n",
    "\n",
    "param_dist = {\n",
    "    'n_estimators': randint(100, 500),\n",
    "    'max_depth': [None, 10, 20, 30],\n",
    "    'min_samples_split': randint(2, 10),\n",
    "    'min_samples_leaf': randint(1, 10)\n",
    "}\n",
    "\n",
    "random_search = RandomizedSearchCV(model, param_dist, n_iter=100, cv=5)\n",
    "random_search.fit(X_train, y_train)\n",
    "\n",
    "model = random_search.best_estimator_"
   ]
  },
  {
   "cell_type": "code",
   "execution_count": 7,
   "id": "a4faf7de",
   "metadata": {},
   "outputs": [],
   "source": [
    "y_pred = pd.Series(model.predict(X_test), index = X_test_index, name = \"Predicted Score\")"
   ]
  },
  {
   "cell_type": "code",
   "execution_count": 8,
   "id": "de44a45d",
   "metadata": {},
   "outputs": [],
   "source": [
    "error = (y_test - y_pred) / y_test * 100"
   ]
  },
  {
   "cell_type": "code",
   "execution_count": 9,
   "id": "c2744cdf",
   "metadata": {},
   "outputs": [],
   "source": [
    "max_error = error.abs().max()\n",
    "avg_error = error.abs().mean()"
   ]
  },
  {
   "cell_type": "code",
   "execution_count": 10,
   "id": "e193cf0b",
   "metadata": {},
   "outputs": [],
   "source": [
    "score = model.score(X_test, y_test)"
   ]
  },
  {
   "cell_type": "code",
   "execution_count": 11,
   "id": "e73aa57d",
   "metadata": {},
   "outputs": [
    {
     "name": "stdout",
     "output_type": "stream",
     "text": [
      "Max Error: 16.075767336347937\n",
      "Average Error: 8.282723073170297\n",
      "Score: 0.8093531043567285\n"
     ]
    }
   ],
   "source": [
    "y_test.to_csv(\"y_test.csv\")\n",
    "y_pred.to_csv(\"y_pred.csv\")\n",
    "error.to_csv(\"error.csv\")\n",
    "print(f\"Max Error: {max_error}\")\n",
    "print(f\"Average Error: {avg_error}\")\n",
    "print(f\"Score: {score}\")\n",
    "with open(\"model.pkl\", \"wb\") as f:\n",
    "    pkl.dump(model, f)"
   ]
  }
 ],
 "metadata": {
  "kernelspec": {
   "display_name": "3.12.2",
   "language": "python",
   "name": "python3"
  },
  "language_info": {
   "codemirror_mode": {
    "name": "ipython",
    "version": 3
   },
   "file_extension": ".py",
   "mimetype": "text/x-python",
   "name": "python",
   "nbconvert_exporter": "python",
   "pygments_lexer": "ipython3",
   "version": "3.12.2"
  }
 },
 "nbformat": 4,
 "nbformat_minor": 5
}
